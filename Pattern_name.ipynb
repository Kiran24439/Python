{
  "nbformat": 4,
  "nbformat_minor": 0,
  "metadata": {
    "colab": {
      "provenance": [],
      "authorship_tag": "ABX9TyN0brujxVVGhTich3dbV81F",
      "include_colab_link": true
    },
    "kernelspec": {
      "name": "python3",
      "display_name": "Python 3"
    },
    "language_info": {
      "name": "python"
    }
  },
  "cells": [
    {
      "cell_type": "markdown",
      "metadata": {
        "id": "view-in-github",
        "colab_type": "text"
      },
      "source": [
        "<a href=\"https://colab.research.google.com/github/Kiran24439/Python/blob/main/Pattern_name.ipynb\" target=\"_parent\"><img src=\"https://colab.research.google.com/assets/colab-badge.svg\" alt=\"Open In Colab\"/></a>"
      ]
    },
    {
      "cell_type": "code",
      "execution_count": null,
      "metadata": {
        "colab": {
          "base_uri": "https://localhost:8080/"
        },
        "id": "p78e41E1ZmYj",
        "outputId": "9bd4ab74-f62d-4660-a4d4-ace2fb4c896f"
      },
      "outputs": [
        {
          "output_type": "stream",
          "name": "stdout",
          "text": [
            "*   *\n",
            "*  *\n",
            "* * \n",
            "*  *\n",
            "*   *\n",
            "\n",
            "\n",
            "* * * \n",
            "  *\n",
            "  *\n",
            "  *\n",
            "* * * \n",
            "\n",
            "\n",
            "* * * \n",
            "*   *\n",
            "* * \n",
            "*   *\n",
            "*    *\n",
            "\n",
            "\n",
            "* * * * \n",
            "*     *\n",
            "* * * * \n",
            "*     *\n",
            "*     *\n",
            "\n",
            "\n",
            "* *     *\n",
            "*  *    *\n",
            "*   *   *\n",
            "*    *  *\n",
            "*     * * \n"
          ]
        }
      ],
      "source": [
        "\n",
        "for i in range(1,6):\n",
        "    if i==1 or i==5:print(\"*\",\" \",\"*\")\n",
        "    elif i==2 or i==4:print(\"*\",\"\",\"*\")\n",
        "    else:print(\"* \"*2)\n",
        "print(\"\\n\")\n",
        "\n",
        "for i in range(1,6):\n",
        "    if i==1 or i==5:print(\"* \"*3)\n",
        "    else:print(\" \",\"*\")\n",
        "print(\"\\n\")\n",
        "\n",
        "for i in range(1,6):\n",
        "    if i==1 :print(\"* \"*3)\n",
        "    elif i==2 or i==4:print(\"*\",\" \",\"*\")\n",
        "    elif i==3:print(\"* \"*2)\n",
        "    else:print(\"*\",\"  \",\"*\")\n",
        "print(\"\\n\")\n",
        "\n",
        "for i in range (1,6):\n",
        "    if i==1 or i==3: print(\"* \"*4)\n",
        "    else:print(\"* \",\" \",\" *\")\n",
        "print(\"\\n\")\n",
        "\n",
        "for i in range(1,6):\n",
        "    if i==1:print(\"* \"*2,\"  \",\"*\")\n",
        "    elif i==2 :print(\"*\",\"\",\"*\",\"  \",\"*\")\n",
        "    elif i==3:print(\"*\",\" \",\"*\",\" \",\"*\")\n",
        "    elif i==4:print(\"*\",\"  \",\"*\",\"\",\"*\")\n",
        "    else:print(\"*\",\"   \",\"* \"*2)"
      ]
    }
  ]
}